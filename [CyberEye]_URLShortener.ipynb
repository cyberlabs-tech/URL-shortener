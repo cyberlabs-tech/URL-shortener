{
  "nbformat": 4,
  "nbformat_minor": 0,
  "metadata": {
    "colab": {
      "name": "[CyberEye]-URLShortener",
      "provenance": [],
      "collapsed_sections": []
    },
    "kernelspec": {
      "name": "python3",
      "display_name": "Python 3"
    },
    "language_info": {
      "name": "python"
    }
  },
  "cells": [
    {
      "cell_type": "code",
      "source": [
        "import string\n",
        "import secrets"
      ],
      "metadata": {
        "id": "uMxQYak4sJi6"
      },
      "execution_count": null,
      "outputs": []
    },
    {
      "cell_type": "code",
      "source": [
        "# characters = [_ for _ in (string.ascii_lowercase).upper()] + [_ for _ in (string.ascii_lowercase)] + [_ for _ in string.digits]\n",
        "# print(characters)\n",
        "# print(len(characters))"
      ],
      "metadata": {
        "id": "C2DI1RTgr390"
      },
      "execution_count": null,
      "outputs": []
    },
    {
      "cell_type": "code",
      "execution_count": null,
      "metadata": {
        "id": "G1N2lCh8lgbV"
      },
      "outputs": [],
      "source": [
        "class URLShortener:\n",
        "    def __init__(self):\n",
        "        \"\"\"Initialize URLShortener object.\"\"\"\n",
        "        self.__longURL_to_shortURL = {}\n",
        "        self.__shortURL_to_longURL = {}\n",
        "    \n",
        "    def __is_collision_shortURL(self, url):\n",
        "        \"\"\"Check if this shorted URL was existed. \"\"\"\n",
        "        if url in self.__shortURL_to_longURL:\n",
        "            return True\n",
        "        return False\n",
        "    \n",
        "    def __generate_random_shortURL(self, length):\n",
        "        \"\"\"Generate random URL that has len(random URL) = length.\"\"\"\n",
        "        characters = [_ for _ in (string.ascii_lowercase).upper()] + [_ for _ in (string.ascii_lowercase)] + [_ for _ in string.digits]\n",
        "        shortURL = \"\".join([secrets.choice(characters) for _ in range(length)])\n",
        "\n",
        "        while self.__is_collision_shortURL(shortURL):\n",
        "            shortURL = \"\".join([secrets.choice(characters) for _ in range(length)])\n",
        "        return shortURL\n",
        "\n",
        "    def shorten(self, url=\"\", duration=\"temporary\", type_of_short=\"random\", fixedURL=\"\"):\n",
        "        \"\"\"Transform the long URL to short URL. Return the URL that was shorted\n",
        "\n",
        "        Keyword arguments:\n",
        "        url -- the input string that needed to short (default \"\")\n",
        "        duration -- the duration that this short URL will exist (default \"temporary\")\n",
        "        type_of_short -- the type of URL shortener (default \"random\")\n",
        "        fixedURL -- use this fixed URL if type_of_short == \"fixed\" (default \"\")\n",
        "        \"\"\"\n",
        "        if url in self.__longURL_to_shortURL:\n",
        "            return self.__longURL_to_shortURL[url]\n",
        "\n",
        "        res_URL = \"\"\n",
        "        if type_of_short == \"random\":\n",
        "            res_URL = self.__generate_random_shortURL(6)\n",
        "        elif type_of_short == \"fixed\":\n",
        "            if self.__is_collision_shortURL(fixedURL):\n",
        "                raise Exception(\"This URL was existed\")\n",
        "            else:\n",
        "                res_URL = fixedURL\n",
        "        \n",
        "        if duration == \"permanent\":\n",
        "            pass\n",
        "            # Save permanent\n",
        "        elif duration == \"temporary\":\n",
        "            pass\n",
        "            # Save temporarily\n",
        "        \n",
        "        self.__shortURL_to_longURL[res_URL] = url\n",
        "        self.__longURL_to_shortURL[url] = res_URL\n",
        "        return res_URL\n",
        "    \n",
        "    def restore(self, short_URL=\"\"):\n",
        "        \"\"\"Restore the short URL to original URL. Return None if there is no found short_URL\n",
        "\n",
        "        short_URL -- the URL that needed to restore (default = \"\")\n",
        "        \"\"\"\n",
        "        if short_URL in self.__shortURL_to_longURL:\n",
        "            return self.__shortURL_to_longURL[short_URL]\n",
        "        return None\n"
      ]
    },
    {
      "cell_type": "code",
      "source": [
        ""
      ],
      "metadata": {
        "id": "psKF7AmLqPI9"
      },
      "execution_count": null,
      "outputs": []
    }
  ]
}